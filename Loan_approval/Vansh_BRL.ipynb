{
 "cells": [
  {
   "cell_type": "code",
   "execution_count": null,
   "id": "e2d804fa",
   "metadata": {},
   "outputs": [],
   "source": [
    "!pip install matplotlib seaborn --upgrade --quiet"
   ]
  },
  {
   "cell_type": "markdown",
   "id": "e2c266e9",
   "metadata": {},
   "source": [
    "# Loan Approval Data Analysis"
   ]
  },
  {
   "cell_type": "markdown",
   "id": "e7a860b3",
   "metadata": {},
   "source": [
    "### Importing all the libraries to be used"
   ]
  },
  {
   "cell_type": "code",
   "execution_count": null,
   "id": "e734c978",
   "metadata": {},
   "outputs": [],
   "source": [
    "import pandas as pd\n",
    "import matplotlib.pyplot as plt\n",
    "import seaborn as sns\n",
    "%matplotlib inline \n",
    "from scipy.stats import chi2_contingency"
   ]
  },
  {
   "cell_type": "markdown",
   "id": "53022814",
   "metadata": {},
   "source": [
    "### Reading the csv file using pandas"
   ]
  },
  {
   "cell_type": "code",
   "execution_count": null,
   "id": "b447bd82",
   "metadata": {},
   "outputs": [],
   "source": [
    "df1 = pd.read_csv(\"/Users/vanshtrivedi/Downloads/archive 3/loan_approval.csv\")\n",
    "df1"
   ]
  },
  {
   "cell_type": "code",
   "execution_count": null,
   "id": "64bd0168",
   "metadata": {},
   "outputs": [],
   "source": [
    "df1.info()"
   ]
  },
  {
   "cell_type": "code",
   "execution_count": null,
   "id": "cb09e4d1",
   "metadata": {},
   "outputs": [],
   "source": [
    "df1.describe()"
   ]
  },
  {
   "cell_type": "markdown",
   "id": "02862474",
   "metadata": {},
   "source": [
    "### Ploting a pair plot of each integer or float type data to get an overview of data set"
   ]
  },
  {
   "cell_type": "code",
   "execution_count": null,
   "id": "5754dc56",
   "metadata": {},
   "outputs": [],
   "source": [
    "sns.pairplot(df1)"
   ]
  },
  {
   "cell_type": "markdown",
   "id": "bc2db1a6",
   "metadata": {},
   "source": [
    "### Displaying applicant income to get an overview of applicants income"
   ]
  },
  {
   "cell_type": "code",
   "execution_count": null,
   "id": "5f42302d",
   "metadata": {},
   "outputs": [],
   "source": [
    "applicant_income=df1['ApplicantIncome']\n",
    "applicant_income"
   ]
  },
  {
   "cell_type": "markdown",
   "id": "f5c39e52",
   "metadata": {},
   "source": [
    "### Checking for the unique values so that undesirable values can be adjusted "
   ]
  },
  {
   "cell_type": "code",
   "execution_count": null,
   "id": "f9dfd40e",
   "metadata": {},
   "outputs": [],
   "source": [
    "loan_status=df1['Loan_Status']\n",
    "loan_status.unique()"
   ]
  },
  {
   "cell_type": "markdown",
   "id": "646950fe",
   "metadata": {},
   "source": [
    "### Converting the field \"Loan status\" from object type to integer type so that it can be plotted"
   ]
  },
  {
   "cell_type": "code",
   "execution_count": null,
   "id": "b536a5e9",
   "metadata": {},
   "outputs": [],
   "source": [
    "list_loan=df1['Loan_Status'].copy()\n",
    "for i in range(len(list_loan)):\n",
    "    if list_loan[i]=='Y':\n",
    "        list_loan[i]=1\n",
    "    else:\n",
    "        list_loan[i]=0\n",
    "print(list_loan)"
   ]
  },
  {
   "cell_type": "markdown",
   "id": "6acd139b",
   "metadata": {},
   "source": [
    "### Plotting \"Loan Status\" against \"Applicant Income\" using scatter plot to get an overview of successful loan status"
   ]
  },
  {
   "cell_type": "code",
   "execution_count": null,
   "id": "71c48541",
   "metadata": {},
   "outputs": [],
   "source": [
    "plt.scatter(list_loan,applicant_income)\n",
    "plt.show()"
   ]
  },
  {
   "cell_type": "markdown",
   "id": "1b828045",
   "metadata": {},
   "source": [
    "### Conclusion:-The applicant for the loan approval whose income ranges from 0 to 20000 has nearly the same chances for loan approval and loan disapproval."
   ]
  },
  {
   "cell_type": "markdown",
   "id": "9b402e03",
   "metadata": {},
   "source": [
    "### Plotting Applicant Income against Loan Status in Y and N format of Loan Status"
   ]
  },
  {
   "cell_type": "code",
   "execution_count": null,
   "id": "6b810922",
   "metadata": {},
   "outputs": [],
   "source": [
    "plt.plot(loan_status,applicant_income)"
   ]
  },
  {
   "cell_type": "markdown",
   "id": "f529a4f2",
   "metadata": {},
   "source": [
    "### Plotting \"Coapplicant Income\" for each applicant "
   ]
  },
  {
   "cell_type": "code",
   "execution_count": null,
   "id": "536f07a2",
   "metadata": {},
   "outputs": [],
   "source": [
    "coapplicant_income=df1['CoapplicantIncome']\n",
    "plt.plot(coapplicant_income)"
   ]
  },
  {
   "cell_type": "markdown",
   "id": "7f3cc497",
   "metadata": {},
   "source": [
    "### Plotting a graph of Loan Amount of each applicant "
   ]
  },
  {
   "cell_type": "code",
   "execution_count": null,
   "id": "3d002ab4",
   "metadata": {},
   "outputs": [],
   "source": [
    "loan_amount=df1['LoanAmount']\n",
    "plt.plot(loan_amount)"
   ]
  },
  {
   "cell_type": "markdown",
   "id": "650159c5",
   "metadata": {},
   "source": [
    "### Checking the unique values in the field \"Dependents\" so that undesired values can be corrected like in this case '3+' is an undesired value"
   ]
  },
  {
   "cell_type": "code",
   "execution_count": null,
   "id": "06c2d8af",
   "metadata": {},
   "outputs": [],
   "source": [
    "print(df1['Dependents'].unique())"
   ]
  },
  {
   "cell_type": "markdown",
   "id": "3ce921c4",
   "metadata": {},
   "source": [
    "### Changing all the unique values in Dependent field using replace function"
   ]
  },
  {
   "cell_type": "code",
   "execution_count": null,
   "id": "54634425",
   "metadata": {},
   "outputs": [],
   "source": [
    "df1['Dependents'] = df1['Dependents'].replace({'0': 0, '1': 1, '2': 2, '3+': 3})"
   ]
  },
  {
   "cell_type": "markdown",
   "id": "786afa09",
   "metadata": {},
   "source": [
    "### Describing the field Dependent and Loan Status using describe function"
   ]
  },
  {
   "cell_type": "code",
   "execution_count": null,
   "id": "78217fbe",
   "metadata": {},
   "outputs": [],
   "source": [
    "print(df1[['Dependents', 'Loan_Status']].describe())"
   ]
  },
  {
   "cell_type": "markdown",
   "id": "08b764b8",
   "metadata": {},
   "source": [
    "### Plotting the number of dependents against Loan status using count plot to analyse the impact of number of dependents on loan status "
   ]
  },
  {
   "cell_type": "code",
   "execution_count": null,
   "id": "95f4129d",
   "metadata": {},
   "outputs": [],
   "source": [
    "plt.figure(figsize=(8, 6))\n",
    "sns.countplot(data=df1, x='Dependents', hue='Loan_Status')\n",
    "plt.xlabel('Number of Dependents')\n",
    "plt.ylabel('Count')\n",
    "plt.title('Impact of Number of Dependents on Loan Status')\n",
    "plt.show()"
   ]
  },
  {
   "cell_type": "markdown",
   "id": "bf0713d5",
   "metadata": {},
   "source": [
    "### Checking for the unique values in field \"Gender\""
   ]
  },
  {
   "cell_type": "code",
   "execution_count": null,
   "id": "447f0dbf",
   "metadata": {},
   "outputs": [],
   "source": [
    "Gender=df1['Gender']\n",
    "Gender.unique()"
   ]
  },
  {
   "cell_type": "markdown",
   "id": "85c4d912",
   "metadata": {},
   "source": [
    "### Setting the value of male as 0 and that of female as 1 in field \"Gender\" using map function"
   ]
  },
  {
   "cell_type": "code",
   "execution_count": null,
   "id": "5e195b07",
   "metadata": {},
   "outputs": [],
   "source": [
    "df1['Gender'] = df1['Gender'].map({'Male': 0, 'Female': 1})"
   ]
  },
  {
   "cell_type": "markdown",
   "id": "6bf87850",
   "metadata": {},
   "source": [
    "### Plotting fiels \"Gender\" against \"Loan status\""
   ]
  },
  {
   "cell_type": "code",
   "execution_count": null,
   "id": "9339edd1",
   "metadata": {},
   "outputs": [],
   "source": [
    "sns.countplot(x='Gender', hue='Loan_Status', data=df1)\n",
    "plt.title('Loan Approval by Gender')\n",
    "plt.show()"
   ]
  },
  {
   "cell_type": "markdown",
   "id": "d8b9ce29",
   "metadata": {},
   "source": [
    "## Conclusion:-There are very high chances for male to get the loan approved in comparison with female"
   ]
  }
 ],
 "metadata": {
  "kernelspec": {
   "display_name": "Python 3 (ipykernel)",
   "language": "python",
   "name": "python3"
  },
  "language_info": {
   "codemirror_mode": {
    "name": "ipython",
    "version": 3
   },
   "file_extension": ".py",
   "mimetype": "text/x-python",
   "name": "python",
   "nbconvert_exporter": "python",
   "pygments_lexer": "ipython3",
   "version": "3.11.5"
  }
 },
 "nbformat": 4,
 "nbformat_minor": 5
}
